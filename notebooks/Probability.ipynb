{
 "cells": [
  {
   "cell_type": "markdown",
   "metadata": {},
   "source": [
    "# Machine Learning and Statistics for Physicists"
   ]
  },
  {
   "cell_type": "markdown",
   "metadata": {},
   "source": [
    "Material for a [UC Irvine](https://uci.edu/) course offered by the [Department of Physics and Astronomy](https://www.physics.uci.edu/).\n",
    "\n",
    "Content is maintained on [github](github.com/dkirkby/MachineLearningStatistics) and distributed under a [BSD3 license](https://opensource.org/licenses/BSD-3-Clause).\n",
    "\n",
    "[Table of contents](Contents.ipynb)"
   ]
  },
  {
   "cell_type": "code",
   "execution_count": 1,
   "metadata": {},
   "outputs": [],
   "source": [
    "%matplotlib inline\n",
    "import matplotlib.pyplot as plt\n",
    "import seaborn as sns; sns.set()\n",
    "import numpy as np\n",
    "import pandas as pd"
   ]
  },
  {
   "cell_type": "code",
   "execution_count": 2,
   "metadata": {},
   "outputs": [],
   "source": [
    "from sklearn import mixture"
   ]
  },
  {
   "cell_type": "markdown",
   "metadata": {},
   "source": [
    "## Probability Theory"
   ]
  },
  {
   "cell_type": "markdown",
   "metadata": {},
   "source": [
    "Probability theory is a mathematical language for reasoning about uncertain outcomes. Possible sources of uncertainty include:\n",
    " - Inherent randomness in a physical process, e.g., arising from [quantum phenomena](http://algassert.com/quirk#circuit={\"cols\":[]}) or a noisy measurement process.\n",
    " - Incomplete information, e.g., due to a measurement that only observes the partial state of a system or a model that only represents partial state.\n",
    " \n",
    "Also, we sometimes chose to make an uncertain statement for convenience. For example, the statement **traveling faster than the speed of light is impossible** needs some unwieldy qualifiers to avoid any uncertainty, so it is convenient to instead state that **traveling faster than the speed of light is impossible under most circumstances**.\n",
    "\n",
    "Probability theory enables us to build quantitative models that describe our data, both seen and not yet seen, so plays an important role in machine learning. A precise formulation is very technical since it must deal with edge cases that we never encounter in practical work. We will skip over most of the technical details here while still introducing the main concepts that are useful to understand the foundations of machine learning.\n",
    "\n",
    "The concepts introduced here that appear most frequently in papers describing machine learning methods are:\n",
    " - Bayes' Rule,\n",
    " - Joint, conditional, and marginal probability density, and\n",
    " - Random variables."
   ]
  },
  {
   "cell_type": "markdown",
   "metadata": {},
   "source": [
    "### Axioms of Probability"
   ]
  },
  {
   "cell_type": "markdown",
   "metadata": {},
   "source": [
    "There are different (equally valid) approaches to formulating a theory of probability. Here we follow the approach of Kolmogorov based on set theory, which has three ingredients:\n",
    " 1. A **sample space** $\\Omega$ that defines the set of all possible uncertain outcomes.\n",
    " 2. An **event space** $\\cal F$ of combinations of outcomes (subsets of $\\Omega$).\n",
    " 3. A **probability measure** $P: {\\cal F}\\rightarrow [0,1]$ that assigns numerical probabilities to each event.\n",
    " \n",
    "The tuple $(\\Omega, {\\cal F}, P)$ is a **probability space**.\n",
    "\n",
    "*Note that \"event\" is used in a peculiar way here (especially for particle physicists) since it refers to a set of outcomes and not just a single possible outcome.*\n",
    "\n",
    "For a concrete example, consider an electron with the following **probability space**:\n",
    " 1. We are interested in a single electron that we can only observe via its spin. Therefore the **sample space** consists of its two possible spins: $\\uparrow$ and $\\downarrow$.\n",
    " 2. Our **event space** consists of all subsets of the sample space: { }, {$\\uparrow$}, {$\\downarrow$}, {$\\uparrow, \\downarrow$}.\n",
    " 3. Our **probability measure** assigns the probabilities: $P(\\{\\,\\}) = 0$, $P(\\{\\uparrow\\}) = P(\\{\\downarrow\\}) = 0.5$, $P(\\{\\uparrow, \\downarrow\\}) = 1$.\n",
    "\n",
    "A probability space defines an uncertain process that you can think of as a black box that generate outcomes $\\omega_1, \\omega_2, \\ldots \\in \\Omega$. After each outcome $\\omega_i$, all events containing $\\omega_i$ are said to have **occurred** (so, in general, multiple events occur simultaneously).  Events $A, B, \\ldots$ occur with probabilities $P(A), P(B), \\ldots$, so the probability measure $P$ encodes the dynamics of the uncertain process.\n",
    "\n",
    "Recall the basic operations of set theory that we will use frequently below. The box represents the set of all possible outcomes, $\\Omega$, with individual outcomes $\\omega$ indicated with dots. The labels show some possible subsets within the event space, constructed using the union ($\\cup$), intersection ($\\cap$) and complement ($\\setminus$) operations (in logic, union and and intersection are called OR and AND):\n",
    "![Set Theory Operations](img/Probability/SetOperations.png)\n",
    "\n",
    "The choice of **sample space** is completely up to you and defines the \"universe\" you are considering. In the example, we decided to ignore the electron's position and momentum. Should the sample space for a coin toss include the possibility of the coin landing on its edge?  It is up to you.\n",
    "\n",
    "The choice of **event space** is more constrained since it must satisfy the following conditions:\n",
    " - **R1:** If event $A$ is included, then so is its complement $\\Omega \\setminus A$. Therefore an event space containing {$\\uparrow$} must also contain {$\\downarrow$}.\n",
    " - **R2:** If events $A_1$ and $A_2$ are included, then so is their union $A_1 \\cup A_2$.  Therefore an event space containing {$\\uparrow$} and {$\\downarrow$} must also contain {{$\\uparrow$,$\\downarrow$}}.\n",
    "\n",
    "If you start with the events you care about and then repeatedly apply the rules above, you will automatically satisfy the additional conditions that:\n",
    " - The \"everything\" event $A = \\Omega$ is included (as the union of all other subset events).\n",
    " - The \"nothing\" event $A =$ {} is included (as the complement of the \"everything\" event).\n",
    " \n",
    "The set of all possible subsets of $\\Omega$ is always a valid event space, but other (simpler) choices are possible when you don't care about some subsets (or don't know how to assign probabilities to them)."
   ]
  },
  {
   "cell_type": "markdown",
   "metadata": {},
   "source": [
    "${\\cal F}$ = {{}, {a}, {b,c,d}, {a,b,c,d}}"
   ]
  },
  {
   "cell_type": "code",
   "execution_count": 3,
   "metadata": {},
   "outputs": [],
   "source": [
    "import itertools\n",
    "def get_full_event_space(sample_space, required_events):\n",
    "    sample_space = frozenset(sample_space)\n",
    "    required_events2 = required_events.copy()\n",
    "    required_events = set()\n",
    "    for x in required_events2:\n",
    "        required_events.add(frozenset(x))\n",
    "    \n",
    "    full_event_space = set(required_events)\n",
    "    full_event_space_old = set()\n",
    "    while full_event_space_old != full_event_space:\n",
    "        full_event_space_old = full_event_space.copy()\n",
    "        for x in full_event_space.copy():\n",
    "            full_event_space.add(sample_space - x)\n",
    "        for x, y in itertools.product(full_event_space, full_event_space):\n",
    "            full_event_space.add(x | y)\n",
    "    events = []\n",
    "    for event in full_event_space:\n",
    "        x = list(sorted(event))\n",
    "        events.append(x)\n",
    "    return sorted(events, key=len)"
   ]
  },
  {
   "cell_type": "markdown",
   "metadata": {
    "solution2": "hidden",
    "solution2_first": true
   },
   "source": [
    "**EXERCISE:** Use the rules above to create the smallest possible event space containing {a} for a sample space consisting of the four possible outcomes {a,b,c,d}."
   ]
  },
  {
   "cell_type": "markdown",
   "metadata": {
    "solution2": "hidden"
   },
   "source": [
    "One way to apply the rules is:\n",
    " - R1: {a} => {b,c,d}\n",
    " - R2: {a}, {b,c,d} => {a,b,c,d}\n",
    " - R1: {a,b,c,d} => {}\n",
    "\n",
    "The complete event space is then: {}, {a}, {b,c,d}, {a,b,c,d}."
   ]
  },
  {
   "cell_type": "code",
   "execution_count": 39,
   "metadata": {},
   "outputs": [
    {
     "name": "stdout",
     "output_type": "stream",
     "text": [
      "[[], ['a'], ['b', 'c', 'd'], ['a', 'b', 'c', 'd']]\n"
     ]
    }
   ],
   "source": [
    "print(get_full_event_space(['a','b','c','d'], [['a']]))"
   ]
  },
  {
   "cell_type": "markdown",
   "metadata": {},
   "source": [
    "${\\cal F}$ = {{}, {a}, {b,c,d}, {a,b,c,d}}"
   ]
  },
  {
   "cell_type": "markdown",
   "metadata": {
    "solution2": "hidden",
    "solution2_first": true
   },
   "source": [
    "**EXERCISE:** Use the rules above to create the smallest possible event space containing {a} and {b} for the same sample space."
   ]
  },
  {
   "cell_type": "code",
   "execution_count": 4,
   "metadata": {},
   "outputs": [
    {
     "name": "stdout",
     "output_type": "stream",
     "text": [
      "[[], ['a'], ['b'], ['a', 'b'], ['c', 'd'], ['a', 'c', 'd'], ['b', 'c', 'd'], ['a', 'b', 'c', 'd']]\n"
     ]
    }
   ],
   "source": [
    "print(get_full_event_space(['a','b','c','d'], [['a'],['b']]))"
   ]
  },
  {
   "cell_type": "markdown",
   "metadata": {},
   "source": [
    "${\\cal F}$ = {{}, {a}, {b}, {a,b}, {c,d}, {b,c,d}, {a,c,d}, {a,b,c,d}}"
   ]
  },
  {
   "cell_type": "markdown",
   "metadata": {
    "solution2": "shown"
   },
   "source": [
    "One way to apply the rules is:\n",
    " - R1: {a} => {b,c,d}\n",
    " - R1: {b} => {a,c,d}\n",
    " - R2: {a}, {b} => {a,b}\n",
    " - R1: {a,b} => {c,d}\n",
    " - R2: {a,b}, {c,d} => {a,b,c,d}\n",
    " - R1: {a,b,c,d} => {}\n",
    " \n",
    "The complete event space is then: {}, {a}, {b}, {a,b}, {c,d}, {b,c,d}, {a,c,d}, {a,b,c,d}.\n",
    "\n",
    "Note that both of these examples allow us to reason about the probabilities of some outcomes without ever needing specify the probabilities of other outcomes.  That's why we need the second Kolmogorov axiom (defined below)."
   ]
  },
  {
   "cell_type": "markdown",
   "metadata": {},
   "source": [
    "Once you have specified your sample and event spaces, you are ready to assign probabilities to each event. This where you make quantitative statements that define how your probability universe works. In the example above we set $P(\\{\\uparrow\\}) = P(\\{\\downarrow\\}) = 0.5$, but you could equally well define an alternate reality where $P(\\{\\uparrow\\}) = 0.2$ and $P(\\{\\downarrow\\}) = 0.8$. The Kolmogorov axioms are that:\n",
    " - For any event $A$, $P(A) \\ge 0$.\n",
    " - $P(\\Omega) = 1$ (\"everything\" event).\n",
    " - If events $A_1, A_2, \\ldots$ have no outcomes in common (i.e., they are *disjoint* $A_i \\cap A_j = \\{\\}$), then:\n",
    "$$\n",
    "P(A_1 \\cup A_2 \\cup \\ldots) = P(A_1) + P(A_2) + \\ldots \\; .\n",
    "$$"
   ]
  },
  {
   "cell_type": "markdown",
   "metadata": {
    "solution2": "hidden",
    "solution2_first": true
   },
   "source": [
    "**DISCUSS:** How might you formulate a probability space for an electron whose spin is time dependent, e.g., because it is in an energy eigenstate that mixes the two spin states."
   ]
  },
  {
   "cell_type": "markdown",
   "metadata": {
    "solution2": "hidden"
   },
   "source": [
    "We first need to define all possible outcomes.  Since outcomes are the results of measurements, we need to specify when measurements are performed and whether multiple measurements might be performed on the same electron.\n",
    "\n",
    "Suppose measurements are always made at a fixed $t_1$ and $t_2 > t_1$, then there are four possible outcomes: (u,u), (u,d), (d,u), (d,d). Next, build an event space containing the outcomes you care about (as in the exercises above). Finally, assign each event's probability using quantum mechanics.\n",
    "\n",
    "This construction could be easily generalized to more measurements at predetermined times, but if measurements are allowed at arbitrary times we need a different approach.  In the most general case, the possible measurements are specified by a sequence of $M$ increasing times $0 \\le t_1 \\le t_2 \\le \\ldots \\le t_M$, where $M = 1, 2, 3, \\ldots$. This leads to an infinite (but enumerable) set of resulting possible outcomes.  However, we could still chose a relatively simple event space, for example:\n",
    " - a: nothing event\n",
    " - b: at least one measurement before $t = 1\\,\\mu$s\n",
    " - c: no measurements before $t = 1\\,\\mu$s\n",
    " - d: everything event."
   ]
  },
  {
   "cell_type": "markdown",
   "metadata": {},
   "source": [
    "The three axioms above are sufficient to derive many useful properties of a probability measure $P$, including:\n",
    " 1. $P(A) + P(\\Omega\\setminus A) = 1$\n",
    " 2. $A\\subseteq B \\implies P(A) \\le P(B)$\n",
    " 3. $P(A\\cap B) \\le \\min(P(A), P(B))$\n",
    " 4. $P(A\\cup B) = P(A) + P(B) - P(A\\cap B)$\n",
    " \n",
    "These all make sense when translated into corresponding Venn diagrams (try it, to convince yourself). The last property is useful for replacing the probability of **A or B** with the probability of **A and B** in an expression (or vice versa).\n",
    "\n",
    "We have already seen one special case of the third property above:\n",
    "$$\n",
    "A, B\\, \\text{disjoint}\\,\\Rightarrow P(A\\cap B) = 0 \\; .\n",
    "$$\n",
    "Another important special case is:\n",
    "$$\n",
    "P(A\\cap B) = P(A) P(B) \\; .\n",
    "$$\n",
    "In this case, we say the events $A$ and $B$ are **independent**. This is the formal definition of **independence** that was missing when we [earlier described](Dimensionality.ipynb) the *Independent Component Analysis (ICA)* method of linear decomposition.\n",
    "\n",
    "In the following we will introduce several new concepts related to probability, but keep in mind that probability is only defined on subsets of outcomes (events), so any new concept must translate to a statement about events."
   ]
  },
  {
   "cell_type": "markdown",
   "metadata": {},
   "source": [
    "### Conditional Probability and Bayes' Rule"
   ]
  },
  {
   "cell_type": "markdown",
   "metadata": {},
   "source": [
    "The probability of event $A$ **given that $B$ has occurred**, written $P(A\\mid B)$, is a central concept in machine learning but does not appear above. Since $P$ is only defined for events, and $A\\mid B$ is not an event, the notation does not even make sense!  Instead, it is shorthand for this ratio of valid probabilities:\n",
    "$$\n",
    "\\boxed{\n",
    "P(A\\mid B) \\equiv \\frac{P(A\\cap B)}{P(B)} \\;. }\n",
    "$$\n",
    "This definition requires that $P(B) > 0$, which is not true for all events $B$, but then necessarily has a value between zero and one (draw a Venn diagram to convince yourself), so makes sense to describe as a **probability**. \n",
    "\n",
    "Note that we are introducing conditional probability as a *definition*, not a result of some calculation, but there are other ways to formulate probability theory in which $P(A\\mid B)$ is included in the initial axioms.\n",
    "\n",
    "A conditional probability effectively shrinks the sample space $\\Omega$ to the outcomes in $B$, resulting in a new probability space with renormalized probabilities."
   ]
  },
  {
   "cell_type": "markdown",
   "metadata": {
    "solution2": "hidden",
    "solution2_first": true
   },
   "source": [
    "**EXERCISE:** Study this [visualization](http://students.brown.edu/seeing-theory/compound-probability/index.html#section3) of conditional probability.\n",
    "1. What is the full sample space of outcomes $\\Omega$?\n",
    "2. Explain how the horizontal bars represent events. Are they are complete event space?\n",
    "3. Explain how the histogram values represent event probabilities or conditional probabilities."
   ]
  },
  {
   "cell_type": "markdown",
   "metadata": {
    "solution2": "hidden"
   },
   "source": [
    "Answers:\n",
    " 1. The full sample space consists of all possible horizontal positions for a single ball. (We could also define a multi-ball sample space, but that's not what this visualization is intended for).\n",
    " 2. Each horizontal bar represents a set of outcomes where the horizontal position lies in some interval. The three events shown are not a complete event space since, for example, they are missing the \"nothing\" and \"everything\" events.\n",
    " 3. With the \"Universe\" button selected, the histogram shows event probabilities. With any other button select, the histogram shows conditional probabilities."
   ]
  },
  {
   "cell_type": "markdown",
   "metadata": {},
   "source": [
    "When $A$ and $B$ are independent events, the conditional probability ratio simplifies to:\n",
    "$$\n",
    "A, B\\,\\text{independent}\\implies P(A\\mid B) = P(A) \\; .\n",
    "$$\n",
    "\n",
    "If we compare $P(A\\mid B)$ and $P(B\\mid A)$ we find that:\n",
    "$$\n",
    "\\boxed{\n",
    "P(A\\mid B) = P(B\\mid A) \\frac{P(A)}{P(B)}\\; ,}\n",
    "$$\n",
    "so $P(A\\mid B) \\ll P(B\\mid A)$ when $P(A) \\ll P(B)$. However, there is a [natural tendency](https://en.wikipedia.org/wiki/Confusion_of_the_inverse) to assume that $P(A\\mid B) \\simeq P(B\\mid A)$ in informal reasoning, so be careful!\n",
    "\n",
    "This relationship between $P(A\\mid B)$ and $P(B\\mid A)$ is known as **Bayes' rule**.  Although there is some controversy and debate surrounding *Bayesian statistics*, Bayes' rule follows directly from the definition of conditional probability and is firmly established.  (The Bayesian controversy, which we will discuss later, is over what constitutes a valid $A$ or $B$)."
   ]
  },
  {
   "cell_type": "markdown",
   "metadata": {},
   "source": [
    "### Random Variables"
   ]
  },
  {
   "cell_type": "markdown",
   "metadata": {},
   "source": [
    "A probability space connects sets of possible outcomes with numerical probabilities, but we also need a way to characterize the outcomes themselves numerically.  **Random variables** fill this gap.\n",
    "\n",
    "A random variable $X: \\Omega\\rightarrow\\mathbb{R}$ labels each possible outcome $\\omega\\in\\Omega$ with a real number $x = X(\\omega)$.  The probability $P(x)$ of a specific random variable value $x$ is then *defined* to be:\n",
    "$$\n",
    "\\boxed{\n",
    "P(X=x) \\equiv P\\left(\\{ \\omega: X(\\omega) = x \\}\\right) \\; . }\n",
    "$$\n",
    "We often write $P(x)$ as shorthand for $P(X=x)$.  Note that, as with $P(A\\mid B)$ earlier, this is a *definition*, not a result, which translates a new notation into a probability assigned to an event.\n",
    "\n",
    "*Technical points:*\n",
    " - *We are assuming that $X$ varies continuously, since that is the most common case in scientific data. Random variables can also be discrete, leading to a set of parallel definitions but with some different notation.*\n",
    " - *$P$ is only defined for events, but what if the set $\\{ \\omega: X(\\omega) = x \\}$ is not in the event space? There are some restrictions on $X(\\omega)$ that prevent this happening.*"
   ]
  },
  {
   "cell_type": "markdown",
   "metadata": {
    "solution2": "hidden",
    "solution2_first": true
   },
   "source": [
    "**DISCUSS:** Try this [visual demonstration](http://students.brown.edu/seeing-theory/probability-distributions/index.html#section1) of how a random variable is simply an arbitrary labeling of possible outcomes:\n",
    " - Are the numerical values on the histogram's horizontal axis supplied by $X$ or $P$?\n",
    " - Are the numerical values on the histogram's vertical axis supplied by $X$ or $P$?\n",
    " - Is $X(\\omega)$ invertible?"
   ]
  },
  {
   "cell_type": "markdown",
   "metadata": {
    "solution2": "hidden"
   },
   "source": [
    "Answers:\n",
    " - The random variable $X$ provides the horizontal numerical values.\n",
    " - The probability measure $P$ provides the vertical numerical values.\n",
    " - The function $X(\\omega)$ is not invertible, which is not a problem."
   ]
  },
  {
   "cell_type": "markdown",
   "metadata": {},
   "source": [
    "We can generalize the equality condition above, $X(\\omega) = x$, to any well-defined condition, for example:\n",
    "$$\n",
    "P(a\\le X \\le b) \\equiv P\\left(\\{ \\omega: a \\le X(\\omega) \\le b \\}\\right) \\; .\n",
    "$$\n",
    "The result will always be in the interval $[0,1]$ because it reduces to the probability assigned to some event.\n",
    "\n",
    "One particularly useful condition yields the **cumulative distribution function (CDF)**:\n",
    "$$\n",
    "F_X(x) \\equiv P\\left(\\{ \\omega: X(\\omega) \\le x\\} \\right) \\; .\n",
    "$$\n",
    "The CDF always rises monotonically from 0 to 1 and is always well defined.\n",
    "\n",
    "When the CDF is differentiable everywhere, we can also calculate the **probability density function (PDF)**:\n",
    "$$\n",
    "f_X(x) \\equiv \\frac{d}{dx} F_X(x) \\; .\n",
    "$$\n",
    "Note that, while CDF is a true probability and always in $[0,1]$, this is not true of the PDF, for which we can only say that PDF $\\ge 0$. Also, the PDF will, in general, have dimensions introduced by the derivative. The [density estimation methods](https://nbviewer.jupyter.org/github/dkirkby/MachineLearningStatistics/blob/master/notebooks/Density.ipynb) we saw earlier aim to estimate the PDF from a sample of observed outcomes.\n",
    "\n",
    "A PDF is a *density* in the sense that:\n",
    "$$\n",
    "\\boxed{\n",
    "P\\left(\\{\\omega: x \\le X \\le x + \\Delta x\\}\\right) \\simeq f_X(x)\\, \\Delta x}\n",
    "$$\n",
    "with $f_X(x) \\Delta x$ in $[0,1]$ since the LHS is the probability of a single event. (We will use this result several times in the proofs below.)\n",
    "\n",
    "We can recover the CDF from a PDF with integration,\n",
    "$$\n",
    "F_X(x) = \\int_{-\\infty}^x\\, f_X(x') dx' \\; ,\n",
    "$$\n",
    "or, in equivalent set theory notation,\n",
    "$$\n",
    "\\begin{aligned}\n",
    "F_X(x) &= \\lim_{\\Delta x\\rightarrow 0}\\, \\sum_i f_X(x_i)\\,\\Delta x \\\\\n",
    "&= \\lim_{\\Delta x\\rightarrow 0}\\, \\sum_i P\\left(\n",
    "\\{\\omega: x_i \\le X(\\omega) \\le x_i + \\Delta x\\} \\right) \\\\\n",
    "&= \\lim_{\\Delta x\\rightarrow 0}\\, P\\left(\n",
    "\\cup_i \\{\\omega: x_i \\le X(\\omega) \\le x_i + \\Delta x\\} \\right) \\; .\n",
    "\\end{aligned}\n",
    "$$\n",
    "where the last line uses the fact that the sets $\\{\\omega: x_i \\le X(\\omega) \\le x_i + \\Delta x\\}$ are all disjoint and combine to cover the full sample space $\\Omega$.\n",
    "\n",
    "Random variables are conventionally denoted with capital letters near the end of the alphabet. We have already used $X$ and $Y$ to denote arrays of data samples or latent variables, but that was no accident.\n",
    "\n",
    "Think of a dataset $X$ as a sequence of random outcomes $\\omega_i$ in the \"universe\" mapped via a random variable $X_j(\\omega)$ for each feature. The elements $X_{ij}$ of the dataset are then just $X_j(\\omega_i)$. Similarly, when you perform dimensionality reduction $X\\rightarrow Y$, you are effectively adopting new random variables $Y_j(\\omega_i)$."
   ]
  },
  {
   "cell_type": "markdown",
   "metadata": {},
   "source": [
    "### Joint, Marginal and Conditional Probability Density"
   ]
  },
  {
   "cell_type": "markdown",
   "metadata": {},
   "source": [
    "When data is described by multiple random variables (features), $x_0, x_1, \\ldots$, it has a **joint CDF**:\n",
    "$$\n",
    "F_{X_0,X_1,\\ldots}(x_0, x_1, \\ldots) \\equiv P\\left(\n",
    "\\{\\omega: X_0(\\omega) \\le x_0\\} \\cap \\{\\omega: X_1(\\omega) \\le x_1\\} \\cap \\ldots \\right) \\; .\n",
    "$$\n",
    "Note how each random variable translates to a set of outcomes in the same underlying sample space $\\Omega$, whose intersection specifies a single event from ${\\cal F}$.\n",
    "\n",
    "In the following, we will restrict to the 2D case $F(x,y)$ and drop the subscript on $F$, to simplify the notation, but you can replace $x = x_0$ and $y = x_1, x_2, \\ldots$ throughout.\n",
    "\n",
    "The **joint PDF** corresponding to a joint CDF is:\n",
    "$$\n",
    "f(x, y) \\equiv \\frac{\\partial}{\\partial x}\\frac{\\partial}{\\partial y}\\, F(x, y) \\; .\n",
    "$$\n",
    "\n",
    "The total integral of the joint PDF is one,\n",
    "$$\n",
    "1 = \\int dx dy \\ldots f(x, y) \\; ,\n",
    "$$\n",
    "but we can also integrate out a single random variable, yielding a **marginal PDF**, e.g.\n",
    "$$\n",
    "f(x) = \\int dy\\, f(x, y) \\; .\n",
    "$$\n",
    "The set theory \"proof\" of this result is:\n",
    "$$\n",
    "\\begin{aligned}\n",
    "\\int dy\\, f(x, y)\n",
    "&= \\lim_{\\Delta y\\rightarrow 0}\\, \\sum_i\\, f(x, y_i)\\,\\Delta y \\\\\n",
    "&= \\lim_{\\Delta y\\rightarrow 0}\\, \\sum_i \\frac{\\partial}{\\partial x} P\\left(\n",
    "\\{ \\omega: X(x) \\le x\\} \\cap \\{ \\omega: y_i \\le Y(y) \\le y_i + \\Delta y\\}\\right)\\\\\n",
    "&= \\lim_{\\Delta y\\rightarrow 0}\\, \\frac{\\partial}{\\partial x} P\\left( \\bigcup_i\n",
    "\\{ \\omega: X(x) \\le x\\} \\cap \\{ \\omega: y_i \\le Y(y) \\le y_i + \\Delta y\\}\\right)\\\\\n",
    "&= \\frac{\\partial}{\\partial x} P\\left(\\{ \\omega: X(x) \\le x\\} \\right) \\\\\n",
    "&= f(x) \\; ,\n",
    "\\end{aligned}\n",
    "$$\n",
    "where the fourth line follows from the third Kolmogorov axiom, since the sets $\\{ \\omega: y_i \\le Y(y) \\le y_i + \\Delta y\\}$ are all disjoint and combine to cover the full sample space $\\Omega$.  In other words, **marginalizing out** a random variable yields exactly the same joint probability we would have obtained if we had never introduced it in the first place.\n",
    "\n",
    "Finally, a **conditional PDF** is defined in terms of the following conditional probability:\n",
    "$$\n",
    "f(x\\mid y) \\equiv \\frac{\\partial}{\\partial x} \\lim_{\\Delta y\\rightarrow 0}\n",
    "P\\left( \\{\\omega: X(\\omega) \\le x\\} \\mid \\{\\omega: y \\le Y(\\omega) \\le y + \\Delta y\\}\\right) \\; .\n",
    "$$\n",
    "Using the definition of **conditional probability** above, we find:\n",
    "$$\n",
    "\\begin{aligned}\n",
    "f(x\\mid y) &= \\lim_{\\Delta y\\rightarrow 0}\\, \\frac{\\partial}{\\partial x}\n",
    "\\frac{P\\left( \\{\\omega: X(\\omega) \\le x\\} \\cap \\{\\omega: y \\le Y(\\omega) \\le y + \\Delta y\\}\\right)}\n",
    "{P\\left( \\{\\omega: y \\le Y(\\omega) \\le y + \\Delta y\\}\\right)} \\\\\n",
    "&= \\lim_{\\Delta y\\rightarrow 0}\\, \\frac{\\partial}{\\partial x}\n",
    "\\frac{\\frac{\\partial}{\\partial y} P\\left( \\{\\omega: X(\\omega) \\le x\\} \\cap\n",
    "\\{\\omega: Y(\\omega) \\le y\\} \\right) \\Delta y}\n",
    "{\\frac{\\partial}{\\partial y} P\\left( \\{\\omega: Y(\\omega) \\le y\\}\\right) \\Delta y} \\\\\n",
    "&= \\frac{\\frac{\\partial}{\\partial x} \\frac{\\partial}{\\partial y} P\\left( \\{\\omega: X(\\omega) \\le x\\} \\cap\n",
    "\\{\\omega: Y(\\omega) \\le y\\} \\right)}\n",
    "{\\frac{\\partial}{\\partial y} P\\left( \\{\\omega: Y(\\omega) \\le y\\}\\right)} \\\\\n",
    "&=\\frac{f(x, y)}{f(y)} \\; . \n",
    "\\end{aligned}\n",
    "$$\n",
    "Rewritten in a slightly different form, this is also known as the \"chain rule\" of probability:\n",
    "$$\n",
    "f(x,y) = f(x\\mid y)\\, f(y) \\; .\n",
    "$$\n",
    "\n",
    "Comparing $f(x\\mid y)$ with $f(y\\mid x)$ we derive the random-variable version of Bayes' rule,\n",
    "$$\n",
    "\\boxed{\n",
    "f(x\\mid y) = \\frac{f(y\\mid x)\\,f(x)}{f(y)} \\; .}\n",
    "$$\n",
    "\n",
    "**SUMMARY:**\n",
    " - Commas signal a **joint** probability formed by set intersections (logical *AND*).\n",
    " - Missing random variables signal a **marginal** probability with the missing variables \"integrated out\".\n",
    " - A vertical bar $(\\mid)$ signals a **conditional** probability with variables on the RHS fixed.\n",
    " \n",
    "As always, a picture is worth a thousand words:"
   ]
  },
  {
   "cell_type": "code",
   "execution_count": 6,
   "metadata": {},
   "outputs": [],
   "source": [
    "def prob2d(XY, lim=(-2.5,+2.5), n=100):\n",
    "    grid = np.linspace(*lim, n)\n",
    "    xy = np.stack(np.meshgrid(grid, grid)).reshape(2, -1).T\n",
    "\n",
    "    data = pd.DataFrame(XY, columns=['x', 'y'])\n",
    "    fitxy = mixture.GaussianMixture(n_components=1).fit(data)\n",
    "    fitx = mixture.GaussianMixture(n_components=1).fit(data.drop(columns='y'))\n",
    "    fity = mixture.GaussianMixture(n_components=1).fit(data.drop(columns='x'))\n",
    "    \n",
    "    pdfxy = np.exp(fitxy.score_samples(xy)).reshape(n, n)\n",
    "    pdfx = np.exp(fitx.score_samples(grid.reshape(-1, 1))).reshape(-1)\n",
    "    pdfy = np.exp(fity.score_samples(grid.reshape(-1, 1))).reshape(-1)\n",
    "    xmarg = pdfxy[:, n // 3].copy()\n",
    "    xmarg /= np.trapz(xmarg, grid)\n",
    "    ymarg = pdfxy[n // 2, :].copy()\n",
    "    ymarg /= np.trapz(ymarg, grid)\n",
    "    \n",
    "    g = sns.JointGrid('x', 'y', data, ratio=2, xlim=lim, ylim=lim, height=8)\n",
    "    g.ax_joint.imshow(pdfxy, extent=lim+lim, origin='lower', interpolation='none')\n",
    "    g.ax_joint.text(-1.6, 1.4, 'A', color='w', fontsize=18)\n",
    "    g.ax_marg_x.plot(grid, pdfx, label='B')\n",
    "    g.ax_marg_x.plot(grid, ymarg, 'r--', label='C')\n",
    "    g.ax_marg_x.legend(fontsize='x-large')\n",
    "    g.ax_marg_y.plot(pdfy, grid, label='D')\n",
    "    g.ax_marg_y.plot(xmarg, grid, 'r--', label='E')\n",
    "    g.ax_marg_y.legend(fontsize='x-large')"
   ]
  },
  {
   "cell_type": "code",
   "execution_count": 7,
   "metadata": {},
   "outputs": [
    {
     "data": {
      "image/png": "[encoded data removed]",
      "text/plain": [
       "<Figure size 576x576 with 3 Axes>"
      ]
     },
     "metadata": {},
     "output_type": "display_data"
    }
   ],
   "source": [
    "gen = np.random.RandomState(seed=123)\n",
    "prob2d(gen.multivariate_normal([0,0], [[2,1],[1,1]], size=5000))"
   ]
  },
  {
   "cell_type": "markdown",
   "metadata": {
    "solution2": "hidden",
    "solution2_first": true
   },
   "source": [
    "**EXERCISE:** The plot above shows probability densities in $x$ and $y$.\n",
    " - Write down the appropriate joint / marginal / conditional expressions for A-E.\n",
    " - How is each quantity A-E normalized?"
   ]
  },
  {
   "cell_type": "markdown",
   "metadata": {
    "solution2": "hidden"
   },
   "source": [
    "Answer:\n",
    " - A is the joint PDF $f(x,y)$, normalized in 2D over $(x,y)$.\n",
    " - B is the marginal PDF $f(x)$, normalized in 1D over $x$.\n",
    " - C is the conditional PDF $f(x|y)$ with $y \\simeq 0.0$, normalized in 1D over $x$.\n",
    " - D is the marginal PDF $f(y)$, normalized in 1D over $y$.\n",
    " - E is the conditional PDF $f(y|x)$ with $x \\simeq -0.7$, normalized in 1D over $y$."
   ]
  },
  {
   "cell_type": "markdown",
   "metadata": {},
   "source": [
    "We say that random variables $X$ and $Y$ are **independent** if\n",
    "$$\n",
    "F(x, y) = F(x) F(y) \\; ,\n",
    "$$\n",
    "which leads to\n",
    "$$\n",
    "f(x, y) = f(x) f(y)\n",
    "$$\n",
    "and\n",
    "$$\n",
    "f(x\\mid y) = f(x) \\quad , \\quad f(y\\mid x) = f(y) \\; .\n",
    "$$\n",
    "The corresponding picture is:"
   ]
  },
  {
   "cell_type": "code",
   "execution_count": 5,
   "metadata": {},
   "outputs": [
    {
     "data": {
      "image/png": "[encoded data removed]",
      "text/plain": [
       "<Figure size 576x576 with 3 Axes>"
      ]
     },
     "metadata": {
      "needs_background": "light"
     },
     "output_type": "display_data"
    }
   ],
   "source": [
    "gen = np.random.RandomState(seed=123)\n",
    "prob2d(gen.multivariate_normal([0,0], [[1,0],[0,0.4]], size=5000))"
   ]
  },
  {
   "cell_type": "markdown",
   "metadata": {},
   "source": [
    "### Another Perspective"
   ]
  },
  {
   "cell_type": "markdown",
   "metadata": {},
   "source": [
    "There is a different way to think about the joint, conditional and marginal probability densities that is equally valid and relevant to some [recent developments in ML](https://arxiv.org/abs/1701.07875).\n",
    "\n",
    "Instead of starting from a joint probability density $f(x,y)$ and then defining the corresponding joint and conditional probabilities, we can start from two arbitrary probability densities $g(x)$ and $h(y)$ and then consider all possible joint probability densities $f(x,y)$ that would have $g(x)$ and $h(y)$ as their marginal densities:\n",
    "$$\n",
    "g(x) = \\int f(x,y)\\, dy \\quad, \\quad h(y) = \\int f(x,y)\\, dx \\; .\n",
    "$$\n",
    "A \"concrete\" (pun intended) way to think about this is that:\n",
    " - $g(x)$ represents the present shape of a pile of dirt (with $x$ a spatial coordinate),\n",
    " - $h(y)$ represents the desired shape of the pile (with $y$ a spatial coordinate),\n",
    " - $f(x,y)$ represents a possible \"earth-moving plan\" to transform $g(x)$ into $h(y)$.\n",
    " - $f(x\\mid y)$ shows where the earth originally at $x$ goes in the plan.\n",
    " - $f(y\\mid x)$ shows where the earth that ends up at $y$ comes from in the plan.\n",
    " \n",
    "The plot below illustrates a plan $f(x,y)$ and shows how its conditional densities stack up to give the desired result: moving earth to transform $g(x)$ into $h(y)$."
   ]
  },
  {
   "cell_type": "code",
   "execution_count": 6,
   "metadata": {},
   "outputs": [
    {
     "data": {
      "image/png": "[encoded data removed]",
      "text/plain": [
       "<Figure size 576x576 with 3 Axes>"
      ]
     },
     "metadata": {
      "needs_background": "light"
     },
     "output_type": "display_data"
    }
   ],
   "source": [
    "def earth_mover(XY, lim=(-2.5,+2.5), n=10):\n",
    "    edges = np.linspace(*lim, n + 1)\n",
    "    hist, _, _ = np.histogram2d(XY[:, 1], XY[:, 0], edges)    \n",
    "    centers = 0.5 * (edges[1:] + edges[:-1])\n",
    "    import matplotlib.colors\n",
    "    cmap = matplotlib.colors.ListedColormap(\n",
    "        sns.color_palette(\"husl\", n).as_hex())\n",
    "    data = pd.DataFrame(XY, columns=['x', 'y'])\n",
    "    g = sns.JointGrid('x', 'y', data, ratio=2, xlim=lim, ylim=lim, height=8)\n",
    "    g.ax_joint.imshow(hist, extent=lim+lim, origin='lower', interpolation='none', cmap='gray')\n",
    "    g.ax_joint.text(-1.9, 1.5, 'Moving Plan', color='w', fontsize=18)\n",
    "    for i in range(n):\n",
    "        g.ax_marg_x.hist(centers, edges, weights=hist[i, :], histtype='barstacked', color=cmap(i))\n",
    "        g.ax_marg_y.hist(centers, edges, weights=hist[:, i], histtype='barstacked', color=cmap(i),\n",
    "                         orientation='horizontal')\n",
    "    \n",
    "earth_mover(gen.multivariate_normal([0,0], [[2,1],[1,1]], size=50000))"
   ]
  },
  {
   "cell_type": "markdown",
   "metadata": {},
   "source": [
    "The relevance of this viewpoint to modern ML is that we can use the \"efficiency\" of the best possible plan as a measure of how similar the initial and final piles are: this is known as the [Earth Mover's Distance](https://en.wikipedia.org/wiki/Earth_mover's_distance) or the [Wasserstein metric](https://en.wikipedia.org/wiki/Wasserstein_metric) $W_1(g,h)$.  See this [blog post](https://www.alexirpan.com/2017/02/22/wasserstein-gan.html) for details on its connection to ML.  (The efficiency of  a plan is defined as the average distance $\\left|x - y\\right|$ it moves each chunk of dirt.)"
   ]
  },
  {
   "cell_type": "markdown",
   "metadata": {},
   "source": [
    "### Practical Probability Calculus"
   ]
  },
  {
   "cell_type": "markdown",
   "metadata": {},
   "source": [
    "It is often useful to use probability densities that are hybrids of the fully joint / marginal / conditional cases, such as $f(x\\mid y, z)$ and $f(x, y\\mid z)$, but these do not require any new formalism.  In the following, we adopt a slightly more abstract notation with the following conventions:\n",
    " - $P(\\ldots)$ is a generic probability (density).\n",
    " - $A_i$ and $B_j$ are generic random variables or, more generically, logical propositions about outcomes.\n",
    "\n",
    "A practical calculus for such expressions boils down to the following transformation rules:\n",
    "\n",
    "**Rule-1**: the order of arguments on either side of $\\mid$ is not significant:\n",
    "$$\n",
    "P(A_1, A_2, \\ldots\\mid B_1, B_2\\ldots) =\n",
    "P(A_2, A_1, \\ldots\\mid B_1, B_2\\ldots) =\n",
    "P(A_1, A_2, \\ldots\\mid B_2, B_1\\ldots) = \\ldots\n",
    "$$\n",
    "\n",
    "**Rule-2**: use the definition of conditional probability to move a variable from the LHS to the RHS:\n",
    "$$\n",
    "P(A_2,\\ldots\\mid A_1,B_1,B_2,\\ldots) = \\frac{P(A_1,A_2,\\ldots\\mid B_1,B_2\\ldots)}{P(A_1\\mid B_1,B_2\\ldots)} \\; .\n",
    "$$\n",
    "\n",
    "**Rule-3**: use the chain rule to move a variable from the RHS to the LHS (really just a restatement of Rule-2):\n",
    "$$\n",
    "P(B_1,A_1,A_2,\\ldots\\mid B_2,\\ldots) = P(A_1,A_2,\\ldots\\mid B_1,B_2,\\ldots)\\,P(B_1\\mid B_2,\\ldots) \\; .\n",
    "$$\n",
    "\n",
    "**Rule-4**: use a marginalization integral to remove a variable from the LHS:\n",
    "$$\n",
    "P(A_2,\\ldots\\mid B_1,B_2,\\ldots) = \\int d A_1'\\, P(A_1', A_2, \\ldots\\mid B_1, B_2\\ldots) \\; .\n",
    "$$\n",
    "\n",
    "**Rule-5**: combine Rule-3 and Rule-4 to remove a variable from the RHS:\n",
    "$$\n",
    "P(A_1,A_2,\\ldots\\mid B_2,\\ldots) = \\int d B_1'\\, P(A_1,A_2,\\ldots\\mid B_1',B_2,\\ldots)\\,P(B_1'\\mid B_2,\\ldots) \\; .\n",
    "$$"
   ]
  },
  {
   "cell_type": "markdown",
   "metadata": {},
   "source": [
    "The random variables of a practical ML algorithm are associated with the observed data $D$, the model parameters $\\Theta$, and the model hyperparameters $M$."
   ]
  },
  {
   "cell_type": "markdown",
   "metadata": {
    "solution2": "hidden",
    "solution2_first": true
   },
   "source": [
    "**EXERCISE:** Use these rules to show that:\n",
    "$$\n",
    "P(\\Theta_M \\mid D,M) = \\frac{P(D\\mid\\Theta_M ,M)\\, P(\\Theta_M,M)}{P(D,M)} \\; .\n",
    "$$\n",
    "We will use this result later when we discuss Bayesian inference."
   ]
  },
  {
   "cell_type": "markdown",
   "metadata": {
    "solution2": "hidden"
   },
   "source": [
    "Apply the rules to the LHS in order to make it look more like the RHS:\n",
    "$$\n",
    "\\begin{aligned}\n",
    "P(\\Theta_M \\mid D,M) &= \\frac{P(D,\\Theta_M\\mid M)}{P(D\\mid M)} & \\text{Rule-2} \\\\\n",
    "&= \\frac{P(D\\mid\\Theta_M,M)\\,P(\\Theta_M|M)}{P(D\\mid M)} & \\text{Rule-3} \\\\\n",
    "&= \\frac{P(D\\mid\\Theta_M,M)\\left[ P(\\Theta_M,M) / P(M)\\right]}{\\left[ P(D,M) / P(M)\\right]} & \\text{Rule-3} \\\\\n",
    "&= \\frac{P(D\\mid\\Theta_M,M)\\, P(\\Theta_M,M)}{P(D,M)} & \\text{simplify}\n",
    "\\end{aligned}\n",
    "$$"
   ]
  }
 ],
 "metadata": {
  "kernelspec": {
   "display_name": "Python 3",
   "language": "python",
   "name": "python3"
  },
  "language_info": {
   "codemirror_mode": {
    "name": "ipython",
    "version": 3
   },
   "file_extension": ".py",
   "mimetype": "text/x-python",
   "name": "python",
   "nbconvert_exporter": "python",
   "pygments_lexer": "ipython3",
   "version": "3.7.5"
  }
 },
 "nbformat": 4,
 "nbformat_minor": 2
}
